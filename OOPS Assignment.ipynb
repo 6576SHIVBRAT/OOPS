{
  "nbformat": 4,
  "nbformat_minor": 0,
  "metadata": {
    "colab": {
      "provenance": []
    },
    "kernelspec": {
      "name": "python3",
      "display_name": "Python 3"
    },
    "language_info": {
      "name": "python"
    }
  },
  "cells": [
    {
      "cell_type": "code",
      "source": [
        "# Python OOPs Questions"
      ],
      "metadata": {
        "id": "sHDbl-7Jo4_n"
      },
      "execution_count": null,
      "outputs": []
    },
    {
      "cell_type": "code",
      "execution_count": null,
      "metadata": {
        "id": "ZkDd3tRa3x5-"
      },
      "outputs": [],
      "source": [
        "# 1.  What is Object-Oriented Programming (OOP)/\n",
        "#Answer.Object-Oriented Programming (OOP) is a programming paradigm centered around the concept of \"objects,\" which are instances of classes. These objects bundle both data (attributes) and the operations (methods) that can be performed on that data. OOP helps in modeling real-world entities more intuitively by using four main principles: encapsulation, inheritance, polymorphism, and abstraction. Encapsulation allows an object to hide its internal state and only expose necessary parts, ensuring better security and data integrity. Inheritance enables a new class to inherit features from an existing class, promoting code reuse and reducing redundancy. Polymorphism allows objects of different classes to be treated as objects of a common superclass, with each class implementing behaviors in its own way. Abstraction simplifies complex systems by exposing only the essential features, hiding unnecessary details. OOP promotes modular, maintainable, and scalable code, making it widely used in modern software development. Popular languages that support OOP include Python, Java, C++, and C#."
      ]
    },
    {
      "cell_type": "code",
      "source": [
        "# 2.  What is a class in OOP?\n",
        "#answer. In Object-Oriented Programming (OOP), a class is a fundamental building block that serves as a blueprint for creating objects. It defines the properties (called attributes) and behaviors (called methods) that the objects created from the class will have. A class does not hold actual data itself but provides the structure for objects, which are specific instances of that class. For example, a class named Car might define attributes like color, model, and speed, along with methods such as drive() and brake(). When you create an object from this class—such as a red Toyota—you are creating an instance of the Car class with its own unique set of values. Classes allow for better organization of code, making it modular, reusable, and easier to maintain by grouping related data and functions together in a logical way."
      ],
      "metadata": {
        "id": "sb4Hpbx_31UK"
      },
      "execution_count": null,
      "outputs": []
    },
    {
      "cell_type": "code",
      "source": [
        "# 3. What is an object in OOP?\n",
        "##Answer. In Object-Oriented Programming (OOP), an object is an instance of a class, representing a specific, tangible entity that combines both data and behavior. While a class acts as a blueprint, the object is the actual implementation that holds real values for the attributes defined in the class and can perform actions using the class’s methods. For example, if you have a class called Car, you can create multiple objects from it, such as a red Toyota or a blue Honda—each with its own unique data but sharing the same structure and behavior. Objects interact with one another in a program, making it easier to model real-world systems. Each object operates independently, maintaining its own state, which helps in building modular, reusable, and organized code."
      ],
      "metadata": {
        "id": "NnjUSoO931Qx"
      },
      "execution_count": null,
      "outputs": []
    },
    {
      "cell_type": "code",
      "source": [
        "# 4.  What is the difference between abstraction and encapsulation?\n",
        "#Answer. Abstraction and encapsulation are both fundamental concepts in Object-Oriented Programming (OOP), but they serve different purposes.Abstraction is the process of hiding complex implementation details and showing only the essential features of an object. It allows the programmer to focus on what an object does, rather than how it does it. For example, when you use a car, you just need to know how to drive it (steering, accelerating, braking) without understanding how the engine works internally. In code, abstraction is achieved using abstract classes or interfaces, allowing developers to design clean and understandable systems by exposing only the necessary parts.Encapsulation, on the other hand, is the practice of bundling data (attributes) and methods (functions) that operate on the data into a single unit, typically a class. It also involves restricting direct access to some of an object's components to protect the integrity of the data. This is done using access modifiers like private, protected, and public. Encapsulation ensures that an object’s internal state cannot be changed unexpectedly from outside the class, promoting data security and integrity."
      ],
      "metadata": {
        "id": "B9kZjHs531Nx"
      },
      "execution_count": null,
      "outputs": []
    },
    {
      "cell_type": "code",
      "source": [
        "# 5.  What are dunder methods in Python?\n",
        "# Answer. Dunder methods, also known as magic methods or special methods, are a set of predefined methods in Python that start and end with double underscores (e.g., __init__, __str__, __add__). The term \"dunder\" is a contraction of \"double underscore.\"These methods are not intended to be called directly by the programmer in most cases. Instead, they are automatically invoked by Python in response to certain operations or events, allowing custom classes to integrate seamlessly with Python's built-in functionalities and operators.1. Operator Overloading 2. Customizing Built-in Functions 3. Controlling Object Lifecycle."
      ],
      "metadata": {
        "id": "DUiAJYhl31K6"
      },
      "execution_count": null,
      "outputs": []
    },
    {
      "cell_type": "code",
      "source": [
        "# 6.  Explain the concept of inheritance in OOP?\n",
        "#Answer. Inheritance in Object-Oriented Programming (OOP) is a concept that allows one class (called the child or subclass) to inherit the properties and behaviors (attributes and methods) of another class (called the parent or superclass). This means the child class automatically gets all the functionality of the parent class, and it can also have additional features or override the existing ones.Inheritance promotes code reusability, as common functionality can be written once in the parent class and reused across multiple child classes. For example, if you have a parent class called Animal with a method speak(), you can create child classes like Dog and Cat that inherit from Animal. These child classes can use the speak() method as-is, or provide their own version of it (this is called method overriding)."
      ],
      "metadata": {
        "id": "0OF0FoSy31H7"
      },
      "execution_count": null,
      "outputs": []
    },
    {
      "cell_type": "code",
      "source": [
        "# 7.  What is polymorphism in OOP?\n",
        "# Answer. Polymorphism in object-oriented programming (OOP) is the ability of an object, method, or variable to take on multiple forms, allowing a single interface to represent different underlying forms or behaviors. This concept provides flexibility, code reusability, and extensibility in software design by enabling a parent class reference to refer to child class objects and by allowing methods to perform different actions based on the object's specific type. It is achieved through techniques like method overloading and method overriding, and it is a fundamental feature that distinguishes true OOP languages from object-based languages."
      ],
      "metadata": {
        "id": "--ws2kdS31D7"
      },
      "execution_count": null,
      "outputs": []
    },
    {
      "cell_type": "code",
      "source": [
        "#8.  How is encapsulation achieved in Python?\n",
        "#Answer. Encapsulation in Python is achieved by restricting direct access to the internal data (attributes) and methods of a class and allowing access only through well-defined interfaces, typically using methods. This is done using access modifiers such as private, protected, and public. In Python, although these access levels are not enforced strictly like in some other languages, naming conventions are used to indicate the intended level of access. Attributes prefixed with a single underscore (e.g., _name) are considered protected, meaning they should not be accessed directly from outside the class. Attributes prefixed with double underscores (e.g., __salary) are considered private, and Python applies name mangling to make them harder to access from outside. To interact with these private attributes, getter and setter methods are typically defined, which provide controlled access and help maintain the integrity of the object’s data. This approach ensures that internal implementation details are hidden from the user, promoting data security and code maintainability."
      ],
      "metadata": {
        "id": "Efx4_IsM31Ax"
      },
      "execution_count": null,
      "outputs": []
    },
    {
      "cell_type": "code",
      "source": [
        "#9. What is a constructor in Python?\n",
        "#answer. A constructor in Python is a special method used to initialize a newly created object from a class. It is automatically called when an object is created and is commonly used to set initial values for the object’s attributes. In Python, the constructor method is named __init__.When you define a class, you can include the __init__ method to accept parameters and assign them to the object’s attributes. This ensures that each object starts with a specific state."
      ],
      "metadata": {
        "id": "LL48_gBV309_"
      },
      "execution_count": null,
      "outputs": []
    },
    {
      "cell_type": "code",
      "source": [
        "# 10.  What are class and static methods in Python?\n",
        "#answer. In Python, class methods and static methods are special types of methods that belong to a class but serve different purposes. A class method is defined using the @classmethod decorator and takes cls as its first parameter, which refers to the class itself rather than an instance. This allows class methods to access or modify class-level data that is shared across all instances. They are often used for alternative constructors or operations that involve the class as a whole. On the other hand, a static method is defined using the @staticmethod decorator and does not take self or cls as its first parameter. It behaves like a regular function but is included in the class for organizational purposes, often used for utility functions that are logically related to the class but do not need access to instance or class data. Both methods help structure code more cleanly and make it easier to maintain by grouping related functionality within a class."
      ],
      "metadata": {
        "id": "WeDcTRPr307I"
      },
      "execution_count": null,
      "outputs": []
    },
    {
      "cell_type": "code",
      "source": [
        "# 11. What is method overloading in Python?\n",
        "#answer. Method overloading in Python refers to the concept of using the same method name with different parameters to perform different tasks. However, unlike some other object-oriented languages, Python does not support true method overloading—you cannot define multiple methods with the same name but different signatures within a single class. If you try to do so, the most recently defined method will simply override the previous ones. To simulate method overloading, Python developers typically use default arguments, variable-length arguments (*args and **kwargs), or conditional logic inside a method to handle different numbers or types of arguments. This allows a single method to behave differently based on how it's called, effectively mimicking method overloading. Although it’s not strict overloading, Python's flexibility in handling function arguments provides a powerful alternative."
      ],
      "metadata": {
        "id": "Q2fR65ne304E"
      },
      "execution_count": null,
      "outputs": []
    },
    {
      "cell_type": "code",
      "source": [
        "# 12.  What is method overriding in OOP?\n",
        "#answer. Method overriding in Object-Oriented Programming (OOP) is a concept where a subclass provides a specific implementation of a method that is already defined in its parent class. This allows the child class to modify or completely replace the behavior of the inherited method to suit its own needs. The method in the subclass must have the same name, return type, and parameters as the one in the parent class. Method overriding is a key aspect of polymorphism, as it enables the same method call to behave differently depending on the object that invokes it. For example, if a parent class Animal has a method speak(), and a subclass Dog overrides this method to provide its own version, calling speak() on a Dog object will execute the overridden method in the Dog class rather than the one in Animal. This makes the program more flexible and allows for more specialized behavior in subclasses without changing the parent class."
      ],
      "metadata": {
        "id": "Onv4aBVm300F"
      },
      "execution_count": null,
      "outputs": []
    },
    {
      "cell_type": "code",
      "source": [
        "# 13.  What is a property decorator in Python?\n",
        "#ANSWER. The @property decorator in Python is used to define a method in a class that can be accessed like an attribute, allowing for controlled access to the private data of an object. It enables you to create read-only or computed properties without explicitly calling a method. When you apply the @property decorator to a method, Python allows you to access it as if it were a regular attribute, but behind the scenes, the method logic is executed. This is useful for situations where you want to expose a value that is calculated or derived from other attributes, or when you want to protect certain data from being directly modified. You can also use @<property_name>.setter and @<property_name>.deleter decorators to define custom behavior for setting or deleting the property. Overall, the @property decorator promotes encapsulation and provides a clean, Pythonic way to manage attribute access while maintaining flexibility and control."
      ],
      "metadata": {
        "id": "4VvvkqB130xK"
      },
      "execution_count": null,
      "outputs": []
    },
    {
      "cell_type": "code",
      "source": [
        "#14 . Why is polymorphism important in OOP?\n",
        "# ANSWER. Polymorphism is important in OOP because it increases code flexibility and reusability by allowing objects of different types to be treated as objects of a common superclass through a single interface, leading to more organized, maintainable, and scalable software that can adapt to new requirements without extensive code changes. By enabling different implementations for the same interface or method, polymorphism supports the creation of more robust and extensible systems, making it a foundational concept for true object-oriented design.\n",
        "#1. Code Reusability: Developers can write generic code that interacts with multiple types of objects, avoiding the need to define separate methods for each specific type.\n",
        "#2. Flexibility and Extensibility:New classes or functionalities can be added to a system by implementing existing interfaces without modifying the original code, allowing the program to evolve gracefully."
      ],
      "metadata": {
        "id": "U0I4F4bZ30uS"
      },
      "execution_count": null,
      "outputs": []
    },
    {
      "cell_type": "code",
      "source": [
        "# 15 . What is an abstract class in Python?\n",
        "#ANSWER. An abstract class in Python is a class that cannot be instantiated on its own and is designed to serve as a blueprint for other classes. It defines a common interface and may include one or more abstract methods—methods declared but not implemented—that must be overridden by any subclass. Abstract classes are created using the abc module and the @abstractmethod decorator, ensuring that subclasses provide specific implementations for these abstract methods. This concept enforces a contract for subclasses, promoting consistent behavior across different implementations while allowing each subclass to define its own unique functionality. Abstract classes are especially useful in large applications to provide a clear structure and promote code reuse, maintainability, and adherence to a defined design.\n",
        "#1. Cannot be instantiated:Attempting to create an instance of an abstract class will result in a TypeError.\n",
        "#2. Contains abstract methods:An abstract class typically includes one or more \"abstract methods.\" These are methods declared in the abstract class but without an implementation. Subclasses are then required to provide the concrete implementation for these abstract methods.\n",
        "#3.Enforces a common interface:By defining abstract methods, an abstract class ensures that any class inheriting from it provides specific functionalities, thus enforcing a consistent API across related classes."
      ],
      "metadata": {
        "id": "Z7gpV29M30rJ"
      },
      "execution_count": null,
      "outputs": []
    },
    {
      "cell_type": "code",
      "source": [
        "# 16 . What are the advantages of OOP/\n",
        "# ANSWER. he advantages of Object-Oriented Programming (OOP) include improved modularity, as code is organized into discrete objects that represent real-world entities, making programs easier to understand and manage. OOP promotes reusability through inheritance, allowing developers to create new classes based on existing ones, which reduces redundancy and speeds up development. It also supports encapsulation, which protects data by restricting direct access to an object's internal state and exposing only necessary parts, improving security and reducing the risk of unintended interference. Polymorphism allows for flexibility and extensibility, enabling the same interface to work with different underlying data types, which makes code more adaptable to change. Additionally, OOP’s abstraction simplifies complex systems by hiding unnecessary details and exposing only essential features. Overall, these benefits lead to more maintainable, scalable, and robust software systems.\n",
        "#1.Modularity:OOP breaks down large programs into smaller, self-contained objects. Each object can be developed, tested, and maintained independently, making the system more organized and easier to understand.\n",
        "#2. Reusability (Inheritance):The concept of inheritance allows new classes to inherit properties and behaviors from existing ones. This reduces redundant code, speeds up development, and promotes efficient code reuse across different parts of a program or different projects.\n",
        "#3. Encapsulation:This principle groups related data and methods into a single unit (an object) and restricts direct access to its internal data. This protects data from unintended modification and improves the security and reliability of the program.\n",
        "#4.Abstraction:Abstraction focuses on essential features while hiding complex implementation details. It simplifies the user's interaction with objects, making the code easier to use and understand."
      ],
      "metadata": {
        "id": "IsDWuSIG30oB"
      },
      "execution_count": null,
      "outputs": []
    },
    {
      "cell_type": "code",
      "source": [
        "#17 . What is the difference between a class variable and an instance variable?\n",
        "#ANSWER. A class variable is a variable that is shared across all instances of a class. It is defined within the class but outside any instance methods, and its value is the same for every object created from that class unless explicitly changed at the class level. Class variables are used to store data that should be common to all instances, such as a counter to keep track of how many objects have been created.In contrast, an instance variable is unique to each object (instance) of the class. It is usually defined inside methods like __init__ using self, and it stores data that is specific to that particular instance. Changes made to an instance variable affect only that individual object and not others.To summarize, class variables are shared across all instances of a class, while instance variables are specific to each object, allowing individual objects to maintain their own state.\n",
        "#1. Definition:A class variable is declared directly within the class definition but outside of any methods.\n",
        "#2.Scope:It belongs to the class itself, not to any specific instance of the class.\n",
        "#3.Sharing:All instances of a class share the same single copy of a class variable. Changes made to a class variable through one instance or directly through the class name will be reflected in all other instances.\n",
        "#4.Access:Class variables can be accessed using the class name (e.g., ClassName.variable_name) or through an instance (e.g., instance_name.variable_name). However, when accessed through an instance, if an instance variable with the same name exists, the instance variable takes precedence.\n",
        "#5.Use Cases:Often used for constants, shared data among all instances (e.g., a counter for the number of instances created), or default values.\n",
        "#Instance Variable:\n",
        "#1.Definition:An instance variable is typically declared within the __init__ method (constructor) of a class, using the self keyword in Python, or within other instance methods.\n",
        "#2.Scope:It belongs to a specific instance (object) of the class.\n",
        "#3.Sharing:Each instance of a class has its own independent copy of an instance variable. Changes made to an instance variable in one instance do not affect the same variable in other instances.\n",
        "#4.Access:Instance variables are accessed using an instance of the class (e.g., instance_name.variable_name).\n",
        "#5.Use Cases:Used to store unique data or attributes specific to each individual object created from the class (e.g., name, age, ID for a Person object)."
      ],
      "metadata": {
        "id": "oAS2q05Y30lW"
      },
      "execution_count": null,
      "outputs": []
    },
    {
      "cell_type": "code",
      "source": [
        "# 18 . What is multiple inheritance in Python?\n",
        "#ANSWER. Multiple inheritance in Python is a feature of object-oriented programming that allows a class to inherit attributes and methods from more than one parent (or base) class. This means a single child class can combine functionalities and characteristics from multiple distinct sources.\n",
        "#Key aspects of multiple inheritance in Python:\n",
        "#1.Syntax: When defining a class that uses multiple inheritance, the parent classes are listed within the parentheses of the class definition, separated by commas.\n",
        "#2.Inheritance of features:The ChildClass in the example above would inherit all the public and protected attributes and methods from both ParentClass1 and ParentClass2.\n",
        "#3.Method Resolution Order (MRO):When a method is called on an object of a class that uses multiple inheritance, Python follows a specific order to search for that method in the class hierarchy. This order is known as the Method Resolution Order (MRO) and is determined by the C3 linearization algorithm. You can inspect the MRO of a class using ClassName.mro().\n",
        "#4.Potential for conflicts:If multiple parent classes have methods or attributes with the same name, the MRO dictates which one is used. This can sometimes lead to unexpected behavior if not understood. The super() function is often used in conjunction with multiple inheritance to ensure proper method calling in the hierarchy.\n",
        "#5.Use cases:Multiple inheritance can be beneficial for code reuse and creating complex objects that combine behaviors from different domains, such as a \"MagicWarrior\" class inheriting abilities from both \"Warrior\" and \"Mage\" classes.\n"
      ],
      "metadata": {
        "id": "O694_bit30iI"
      },
      "execution_count": null,
      "outputs": []
    },
    {
      "cell_type": "code",
      "source": [
        "# 19.  Explain the purpose of ‘’__str__’ and ‘__repr__’ ‘ methods in Python?\n",
        "#ANSWER. In Python, __str__ and __repr__ are special \"dunder\" (double underscore) methods that define how an object is represented as a string. They serve different purposes and are aimed at different audiences:\n",
        "#__str__(self):\n",
        "# Purpose: To provide an \"informal\" or \"user-friendly\" string representation of an object.\n",
        "#Audience: End-users or for display purposes (e.g., when using print() or str()).\n",
        "# Characteristics: Should be easily readable and understandable by someone who may not be familiar with the code's internal structure. It often presents a concise summary of the object's key attributes.\n",
        "# __repr__(self):\n",
        "# Purpose: To provide an \"official\" or \"developer-friendly\" string representation of an object.\n",
        "# Audience: Developers, for debugging, logging, or for recreating the object.\n",
        "# Characteristics: Should be unambiguous and, ideally, allow for the reconstruction of the object. This means it should contain enough information to uniquely identify the object and its state. When possible, the output of repr() should be a valid Python expression that, when evaluated, would create an equivalent object.\n"
      ],
      "metadata": {
        "id": "141afctA30fA"
      },
      "execution_count": null,
      "outputs": []
    },
    {
      "cell_type": "code",
      "source": [
        "# 20. What is the significance of the ‘super()’ function in Python?\n",
        "#ANSWER. The super() function in Python holds significant importance in the context of object-oriented programming, particularly concerning inheritance. Its primary role is to provide a way to access methods and attributes of a parent or sibling class from within a child or subclass.The super() function in Python is used to give access to methods and properties of a parent (or superclass) from within a child (or subclass). It is most commonly used in method overriding, where a subclass provides its own version of a method but still wants to call the original implementation from the parent class. This helps in extending the behavior of inherited methods rather than completely replacing them.\n",
        "#The significance of super() lies in promoting code reuse, maintainability, and supporting multiple inheritance more effectively by following the method resolution order (MRO). It ensures that the next method in the hierarchy is called correctly, especially when multiple classes are involved."
      ],
      "metadata": {
        "id": "ObVJwcDR30cQ"
      },
      "execution_count": null,
      "outputs": []
    },
    {
      "cell_type": "code",
      "source": [
        "#21. What is the significance of the __del__ method in Python?\n",
        "#ANSWER.The __del__ method in Python is a special method known as a destructor, and it is called automatically when an object is about to be destroyed or garbage collected. Its primary purpose is to allow developers to define cleanup actions, such as releasing external resources (e.g., closing files, network connections, or database links) when an object’s lifecycle ends. However, the use of __del__ should be approached with caution, as the exact timing of its execution is determined by Python’s garbage collector and is not guaranteed to happen immediately when an object goes out of scope. Additionally, if there are circular references or exceptions within __del__, it may prevent the object from being properly deleted. Because of these limitations, modern Python programs often prefer using context managers (with the with statement) and the __enter__ and __exit__ methods for managing resource cleanup more reliably."
      ],
      "metadata": {
        "id": "t6o90Byd30ZD"
      },
      "execution_count": null,
      "outputs": []
    },
    {
      "cell_type": "code",
      "source": [
        "# 22. What is the difference between @staticmethod and @classmethod in Python?\n",
        "#ANSWER.The main difference between @staticmethod and @classmethod in Python lies in how they access the class or instance, and what they are used for.\n",
        "# A @staticmethod is a method that does not take self or cls as its first parameter. It behaves like a regular function but is placed inside a class for organizational purposes. Static methods cannot access or modify class or instance attributes, and are typically used for utility functions that are logically related to the class but do not depend on class or instance data.\n",
        "#In contrast, a @classmethod takes cls as its first parameter, which refers to the class itself (not an instance of the class). Class methods can access or modify class-level attributes, and are often used as alternative constructors or when the method needs to interact with the class rather than individual instances."
      ],
      "metadata": {
        "id": "oAxJp7ov30V8"
      },
      "execution_count": null,
      "outputs": []
    },
    {
      "cell_type": "code",
      "source": [
        "#23. How does polymorphism work in Python with inheritance?\n",
        "#ANSWER.Polymorphism in Python, when combined with inheritance, primarily functions through method overriding. This allows subclasses to provide their own specific implementations of methods that are already defined in their parent class.\n",
        "#Inheritance:\n",
        "#A child class (subclass) inherits methods and attributes from a parent class (superclass). This means the child class initially has access to the parent's methods.\n",
        "#Method Overriding:\n",
        "#If a child class needs a different behavior for a method inherited from its parent, it can redefine that method with the same name. This redefinition in the child class is known as method overriding. When an instance of the child class calls that method, its own overridden version is executed instead of the parent's.\n",
        "#Polymorphism in Action:\n",
        "#Because of method overriding, objects of different subclasses can respond to the same method call in different ways, each according to their specific implementation. This allows for a single interface (the method name) to have multiple forms of behavior, hence \"polymorphism\" (meaning \"many forms\")."
      ],
      "metadata": {
        "id": "TbWGmhxJ30TO"
      },
      "execution_count": null,
      "outputs": []
    },
    {
      "cell_type": "code",
      "source": [
        "#24. What is method chaining in Python OOP?\n",
        "#ANSWER.ChatGPT said:\n",
        "\n",
        "#Method chaining in Python OOP is a programming technique where multiple method calls are linked together in a single line, with each method returning the object itself (usually using return self). This allows for a more concise and readable way to perform a series of operations on the same object.\n",
        "#In object-oriented design, method chaining is commonly used for configuring or modifying an object step-by-step. For this to work, each method in the chain must return the instance (self) so that the next method can be called on it.\n",
        "#Method Returns self:\n",
        "#For a method to be chainable, its implementation must conclude by returning self. This means that after the method executes its logic, it provides the same object instance on which it was called back to the caller.\n",
        "#Sequential Calls:\n",
        "#Because each method in the chain returns the object, the next method in the sequence can be directly called on the returned object without the need for intermediate variables to store the object's state."
      ],
      "metadata": {
        "id": "Z-mIgccG30QV"
      },
      "execution_count": null,
      "outputs": []
    },
    {
      "cell_type": "code",
      "source": [
        "#25.What is the purpose of the __call__ method in Python?\n",
        "#ANSWER. The purpose of the __call__ method in Python is to make instances of a class callable, meaning they can be invoked like functions.\n",
        "#When the __call__ method is defined within a class, you can call an instance of that class directly, as if it were a function. This allows objects to encapsulate both data (attributes) and behavior (the __call__ method's implementation), providing a powerful way to create flexible and reusable code.\n",
        "#Key aspects of __call__:\n",
        "#Callable Objects:\n",
        "##It transforms class instances into callable objects, allowing instance_name() syntax to execute the code within __call__.\n",
        "#Encapsulation:\n",
        "#It enables objects to behave like functions while still retaining the ability to store and manage internal state through attributes.\n",
        "#Flexibility:\n",
        "#It can be used in various scenarios, such as creating function-like objects that maintain state, implementing custom decorators, or designing APIs where certain objects need to be directly invoked.\n",
        "#Arguments and Return Values:\n",
        "#Like regular functions, the __call__ method can accept arguments (*args, **kwargs) and return any valid Python object.\n"
      ],
      "metadata": {
        "id": "f_SNIOco30NP"
      },
      "execution_count": null,
      "outputs": []
    },
    {
      "cell_type": "code",
      "source": [
        "#Practical Questions"
      ],
      "metadata": {
        "id": "61twx5qY30KJ"
      },
      "execution_count": null,
      "outputs": []
    },
    {
      "cell_type": "code",
      "source": [
        "# 1. 1. Create a parent class Animal with a method speak() that prints a generic message. Create a child class Dog that overrides the speak() method to print \"Bark!\".\n",
        "#Answer.\n",
        "class Animal:\n",
        "    \"\"\"Parent class representing a generic animal.\"\"\"\n",
        "\n",
        "    def speak(self):\n",
        "        \"\"\"Prints a generic message indicating the animal is speaking.\"\"\"\n",
        "        print(\"The animal makes a sound.\")\n",
        "\n",
        "class Dog(Animal):\n",
        "    \"\"\"Child class representing a dog, inheriting from Animal.\n",
        "    Overrides the speak() method to be specific to dogs.\n",
        "    \"\"\"\n",
        "\n",
        "    def speak(self):\n",
        "        \"\"\"Overrides the speak() method to print a message specific to dogs.\"\"\"\n",
        "        print(\"Bark!\")\n",
        "\n",
        "# Example usage:\n",
        "animal_instance = Animal()\n",
        "animal_instance.speak()\n",
        "\n",
        "dog_instance = Dog()\n",
        "dog_instance.speak()"
      ],
      "metadata": {
        "colab": {
          "base_uri": "https://localhost:8080/"
        },
        "id": "r1e3Gqj-30HJ",
        "outputId": "d46c9ab4-8d8c-47be-8ed3-4b986e4d231a"
      },
      "execution_count": 4,
      "outputs": [
        {
          "output_type": "stream",
          "name": "stdout",
          "text": [
            "The animal makes a sound.\n",
            "Bark!\n"
          ]
        }
      ]
    },
    {
      "cell_type": "code",
      "source": [
        "# 2. 2. Write a program to create an abstract class Shape with a method area(). Derive classes Circle and Rectangle from it and implement the area() method in both?\n",
        "#Answer. from abc import ABC, abstractmethod\n",
        "import math\n",
        "from abc import ABC, abstractmethod # Import ABC and abstractmethod\n",
        "\n",
        "class Shape(ABC):\n",
        "    @abstractmethod\n",
        "    def area(self):\n",
        "        pass\n",
        "\n",
        "class Circle(Shape):\n",
        "    def __init__(self, radius):\n",
        "        self.radius = radius\n",
        "\n",
        "    def area(self):\n",
        "        return math.pi * self.radius ** 2\n",
        "\n",
        "class Rectangle(Shape):\n",
        "    def __init__(self, width, height):\n",
        "        self.width = width\n",
        "        self.height = height\n",
        "\n",
        "    def area(self):\n",
        "        return self.width * self.height\n",
        "\n",
        "# Example usage\n",
        "circle = Circle(5)\n",
        "rectangle = Rectangle(4, 6)\n",
        "\n",
        "print(\"Area of Circle:\", circle.area())\n",
        "print(\"Area of Rectangle:\", rectangle.area())"
      ],
      "metadata": {
        "colab": {
          "base_uri": "https://localhost:8080/"
        },
        "id": "fdJkJlwq30Eb",
        "outputId": "242a93a7-6496-4532-c2af-1ec5aef256e7"
      },
      "execution_count": 7,
      "outputs": [
        {
          "output_type": "stream",
          "name": "stdout",
          "text": [
            "Area of Circle: 78.53981633974483\n",
            "Area of Rectangle: 24\n"
          ]
        }
      ]
    },
    {
      "cell_type": "code",
      "source": [
        "# 3. . Implement a multi-level inheritance scenario where a class Vehicle has an attribute type. Derive a class Car and further derive a class ElectricCar that adds a battery attribute?\n",
        "#Answer. # Base class\n",
        "class Vehicle:\n",
        "    def __init__(self, vehicle_type):\n",
        "        self.type = vehicle_type\n",
        "\n",
        "    def display_type(self):\n",
        "        print(f\"Vehicle type: {self.type}\")\n",
        "\n",
        "# Derived class\n",
        "class Car(Vehicle):\n",
        "    def __init__(self, vehicle_type, brand):\n",
        "        super().__init__(vehicle_type)\n",
        "        self.brand = brand\n",
        "\n",
        "    def display_brand(self):\n",
        "        print(f\"Car brand: {self.brand}\")\n",
        "\n",
        "# Further derived class\n",
        "class ElectricCar(Car):\n",
        "    def __init__(self, vehicle_type, brand, battery_capacity):\n",
        "        super().__init__(vehicle_type, brand)\n",
        "        self.battery = battery_capacity\n",
        "\n",
        "    def display_battery(self):\n",
        "        print(f\"Battery capacity: {self.battery} kWh\")\n",
        "\n",
        "# Example usage\n",
        "tesla = ElectricCar(\"Electric\", \"Tesla\", 75)\n",
        "\n",
        "# Accessing all attributes and methods from each level\n",
        "tesla.display_type()      # From Vehicle\n",
        "tesla.display_brand()     # From Car\n",
        "tesla.display_battery()   # From ElectricCar"
      ],
      "metadata": {
        "colab": {
          "base_uri": "https://localhost:8080/"
        },
        "id": "TNZiAXvV30BS",
        "outputId": "fcaa16b7-c8d0-48d6-e96f-cf6e175d3add"
      },
      "execution_count": 8,
      "outputs": [
        {
          "output_type": "stream",
          "name": "stdout",
          "text": [
            "Vehicle type: Electric\n",
            "Car brand: Tesla\n",
            "Battery capacity: 75 kWh\n"
          ]
        }
      ]
    },
    {
      "cell_type": "code",
      "source": [
        "# 4.  Demonstrate polymorphism by creating a base class Bird with a method fly(). Create two derived classes Sparrow and Penguin that override the fly() method.\n",
        "#Answer. # Base class\n",
        "class Bird:\n",
        "    def fly(self):\n",
        "        print(\"Some birds can fly.\")\n",
        "\n",
        "# Derived class 1\n",
        "class Sparrow(Bird):\n",
        "    def fly(self):\n",
        "        print(\"Sparrow flies high in the sky.\")\n",
        "\n",
        "# Derived class 2\n",
        "class Penguin(Bird):\n",
        "    def fly(self):\n",
        "        print(\"Penguins cannot fly, they swim.\")\n",
        "\n",
        "# Function that demonstrates polymorphism\n",
        "def bird_flight(bird):\n",
        "    bird.fly()\n",
        "\n",
        "# Create objects\n",
        "bird1 = Sparrow()\n",
        "bird2 = Penguin()\n",
        "\n",
        "# Polymorphic behavior\n",
        "bird_flight(bird1)  # Output: Sparrow flies high in the sky.\n",
        "bird_flight(bird2)  # Output: Penguins cannot fly, they swim.\n"
      ],
      "metadata": {
        "colab": {
          "base_uri": "https://localhost:8080/"
        },
        "id": "rfMq7HdD3z-Y",
        "outputId": "157cce6a-3267-4a26-9222-7daa8bc4d49b"
      },
      "execution_count": 9,
      "outputs": [
        {
          "output_type": "stream",
          "name": "stdout",
          "text": [
            "Sparrow flies high in the sky.\n",
            "Penguins cannot fly, they swim.\n"
          ]
        }
      ]
    },
    {
      "cell_type": "code",
      "source": [
        "# 5.  Write a program to demonstrate encapsulation by creating a class BankAccount with private attributes balance and methods to deposit, withdraw, and check balance.\n",
        "#Answer.\n",
        "class BankAccount:\n",
        "    def __init__(self, initial_balance=0):\n",
        "        self.__balance = initial_balance  # Private attribute\n",
        "\n",
        "    def deposit(self, amount):\n",
        "        if amount > 0:\n",
        "            self.__balance += amount\n",
        "            print(f\"Deposited: {amount}\")\n",
        "        else:\n",
        "            print(\"Invalid deposit amount.\")\n",
        "\n",
        "    def withdraw(self, amount):\n",
        "        if 0 < amount <= self.__balance:\n",
        "            self.__balance -= amount\n",
        "            print(f\"Withdrew: {amount}\")\n",
        "        else:\n",
        "            print(\"Insufficient balance or invalid amount.\")\n",
        "\n",
        "    def get_balance(self):\n",
        "        return self.__balance\n",
        "\n",
        "# Example usage\n",
        "account = BankAccount(1000)\n",
        "\n",
        "account.deposit(500)          # Deposited: 500\n",
        "account.withdraw(200)         # Withdrew: 200\n",
        "print(\"Current Balance:\", account.get_balance())  # Current Balance: 1300\n",
        "\n",
        "# Attempting to access private attribute (will fail)\n",
        "# print(account.__balance)    # AttributeError"
      ],
      "metadata": {
        "colab": {
          "base_uri": "https://localhost:8080/"
        },
        "id": "nO52q3663z7U",
        "outputId": "b475ab9a-7630-470f-fcbc-37b3f8d39cf6"
      },
      "execution_count": 12,
      "outputs": [
        {
          "output_type": "stream",
          "name": "stdout",
          "text": [
            "Deposited: 500\n",
            "Withdrew: 200\n",
            "Current Balance: 1300\n"
          ]
        }
      ]
    },
    {
      "cell_type": "code",
      "source": [
        "# 6. Demonstrate runtime polymorphism using a method play() in a base class Instrument. Derive classes Guitar and Piano that implement their own version of play().\n",
        "#answer. # Base class\n",
        "class Instrument:\n",
        "    def play(self):\n",
        "        print(\"Playing an instrument.\")\n",
        "\n",
        "# Derived class 1\n",
        "class Guitar(Instrument):\n",
        "    def play(self):\n",
        "        print(\"Strumming the guitar.\")\n",
        "\n",
        "# Derived class 2\n",
        "class Piano(Instrument):\n",
        "    def play(self):\n",
        "        print(\"Playing the piano keys.\")\n",
        "\n",
        "# Function demonstrating runtime polymorphism\n",
        "def perform(instrument):\n",
        "    instrument.play()\n",
        "\n",
        "# Create objects of different instruments\n",
        "guitar = Guitar()\n",
        "piano = Piano()\n",
        "\n",
        "# Call the same method on different objects\n",
        "perform(guitar)  # Output: Strumming the guitar.\n",
        "perform(piano)   # Output: Playing the piano keys."
      ],
      "metadata": {
        "colab": {
          "base_uri": "https://localhost:8080/"
        },
        "id": "uvM8ZECg3z4l",
        "outputId": "1a176a6c-f550-4e0e-d659-20ad62d32859"
      },
      "execution_count": 13,
      "outputs": [
        {
          "output_type": "stream",
          "name": "stdout",
          "text": [
            "Strumming the guitar.\n",
            "Playing the piano keys.\n"
          ]
        }
      ]
    },
    {
      "cell_type": "code",
      "source": [
        "# 7.  Create a class MathOperations with a class method add_numbers() to add two numbers and a static method subtract_numbers() to subtract two numbers.\n",
        "#answer.\n",
        "class MathOperations:\n",
        "\n",
        "    @classmethod\n",
        "    def add_numbers(cls, a, b):\n",
        "        return a + b\n",
        "\n",
        "    @staticmethod\n",
        "    def subtract_numbers(a, b):\n",
        "        return a - b\n",
        "\n",
        "# Example usage\n",
        "sum_result = MathOperations.add_numbers(10, 5)\n",
        "diff_result = MathOperations.subtract_numbers(10, 5)\n",
        "\n",
        "print(\"Sum:\", sum_result)           # Output: Sum: 15\n",
        "print(\"Difference:\", diff_result)   # Output: Difference: 5"
      ],
      "metadata": {
        "colab": {
          "base_uri": "https://localhost:8080/"
        },
        "id": "MXTw7R2d3z0z",
        "outputId": "326fb7c1-cff3-42de-fb41-99d74e1d612e"
      },
      "execution_count": 15,
      "outputs": [
        {
          "output_type": "stream",
          "name": "stdout",
          "text": [
            "Sum: 15\n",
            "Difference: 5\n"
          ]
        }
      ]
    },
    {
      "cell_type": "code",
      "source": [
        "# 8.  Implement a class Person with a class method to count the total number of persons created.\n",
        "#answer.\n",
        "class Person:\n",
        "    count = 0  # Class variable to track number of instances\n",
        "\n",
        "    def __init__(self, name):\n",
        "        self.name = name\n",
        "        Person.count += 1  # Increment count when a new object is created\n",
        "\n",
        "    @classmethod\n",
        "    def get_person_count(cls):\n",
        "        return cls.count\n",
        "\n",
        "# Example usage\n",
        "p1 = Person(\"Alice\")\n",
        "p2 = Person(\"Bob\")\n",
        "p3 = Person(\"Charlie\")\n",
        "\n",
        "print(\"Total persons created:\", Person.get_person_count())  # Output: 3"
      ],
      "metadata": {
        "colab": {
          "base_uri": "https://localhost:8080/"
        },
        "id": "Y4OvaoaU3zyN",
        "outputId": "0feda408-6fac-4b1f-9a27-5cdf203adb59"
      },
      "execution_count": 18,
      "outputs": [
        {
          "output_type": "stream",
          "name": "stdout",
          "text": [
            "Total persons created: 3\n"
          ]
        }
      ]
    },
    {
      "cell_type": "code",
      "source": [
        "# 9.  Write a class Fraction with attributes numerator and denominator. Override the str method to display the fraction as \"numerator/denominator\".\n",
        "#answer.\n",
        "class Fraction:\n",
        "    def __init__(self, numerator, denominator):\n",
        "        self.numerator = numerator\n",
        "        self.denominator = denominator\n",
        "\n",
        "    def __str__(self):\n",
        "        return f\"{self.numerator}/{self.denominator}\"\n",
        "\n",
        "# Example usage\n",
        "frac = Fraction(3, 4)\n",
        "print(frac)"
      ],
      "metadata": {
        "colab": {
          "base_uri": "https://localhost:8080/"
        },
        "id": "F8zyfTS63zvQ",
        "outputId": "3c92ee5d-3865-48d0-9628-5fc0330819b1"
      },
      "execution_count": 20,
      "outputs": [
        {
          "output_type": "stream",
          "name": "stdout",
          "text": [
            "3/4\n"
          ]
        }
      ]
    },
    {
      "cell_type": "code",
      "source": [
        "# 10.  Demonstrate operator overloading by creating a class Vector and overriding the add method to add two vectors.\n",
        "#answer.\n",
        "class Vector:\n",
        "    def __init__(self, x, y):\n",
        "        self.x = x\n",
        "        self.y = y\n",
        "\n",
        "    # Override the + operator\n",
        "    def __add__(self, other):\n",
        "        if isinstance(other, Vector):\n",
        "            return Vector(self.x + other.x, self.y + other.y)\n",
        "        else:\n",
        "            return NotImplemented\n",
        "\n",
        "    def __str__(self):\n",
        "        return f\"Vector({self.x}, {self.y})\"\n",
        "\n",
        "# Example usage\n",
        "v1 = Vector(2, 3)\n",
        "v2 = Vector(4, 5)\n",
        "\n",
        "v3 = v1 + v2\n",
        "print(v3)  # Output: Vector(6, 8)"
      ],
      "metadata": {
        "colab": {
          "base_uri": "https://localhost:8080/"
        },
        "id": "58-1_YFT3zsZ",
        "outputId": "afa2a640-e147-4aaa-90f2-712b9894df48"
      },
      "execution_count": 22,
      "outputs": [
        {
          "output_type": "stream",
          "name": "stdout",
          "text": [
            "Vector(6, 8)\n"
          ]
        }
      ]
    },
    {
      "cell_type": "code",
      "source": [
        "#11.  Create a class Person with attributes name and age. Add a method greet() that prints \"Hello, my name is {name} and I am {age} years old.\"\"\n",
        "#answer.\n",
        "class Person:\n",
        "    def __init__(self, name, age):\n",
        "        self.name = name\n",
        "        self.age = age\n",
        "\n",
        "    def greet(self):\n",
        "        print(f\"Hello, my name is {self.name} and I am {self.age} years old.\")\n",
        "\n",
        "# Example usage\n",
        "person = Person(\"Alice\", 30)\n",
        "person.greet()  # Output: Hello, my name is Alice and I am 30 years old."
      ],
      "metadata": {
        "colab": {
          "base_uri": "https://localhost:8080/"
        },
        "id": "Eci_iqYh3zpR",
        "outputId": "1de6263c-d501-4ff1-a65a-0e49b8837382"
      },
      "execution_count": 24,
      "outputs": [
        {
          "output_type": "stream",
          "name": "stdout",
          "text": [
            "Hello, my name is Alice and I am 30 years old.\n"
          ]
        }
      ]
    },
    {
      "cell_type": "code",
      "source": [
        "#12. . Implement a class Student with attributes name and grades. Create a method average_grade() to compute the average of the grades.\n",
        "#answer.\n",
        "class Student:\n",
        "    def __init__(self, name, grades):\n",
        "        self.name = name\n",
        "        self.grades = grades  # Expecting a list of numbers\n",
        "\n",
        "    def average_grade(self):\n",
        "        if not self.grades:\n",
        "            return 0  # Avoid division by zero if grades list is empty\n",
        "        return sum(self.grades) / len(self.grades)\n",
        "\n",
        "# Example usage\n",
        "student = Student(\"John\", [85, 90, 78, 92])\n",
        "print(f\"{student.name}'s average grade is: {student.average_grade()}\")\n",
        "# Output: John's average grade is: 86.25"
      ],
      "metadata": {
        "colab": {
          "base_uri": "https://localhost:8080/"
        },
        "id": "02m_o_kK3zmT",
        "outputId": "fd3a8581-d4c4-46d4-c950-f2316cffc1bd"
      },
      "execution_count": 26,
      "outputs": [
        {
          "output_type": "stream",
          "name": "stdout",
          "text": [
            "John's average grade is: 86.25\n"
          ]
        }
      ]
    },
    {
      "cell_type": "code",
      "source": [
        "#13. . Create a class Rectangle with methods set_dimensions() to set the dimensions and area() to calculate the area.\n",
        "#answer.\n",
        "class Rectangle:\n",
        "    def __init__(self):\n",
        "        self.length = 0\n",
        "        self.width = 0\n",
        "\n",
        "    def set_dimensions(self, length, width):\n",
        "        self.length = length\n",
        "        self.width = width\n",
        "\n",
        "    def area(self):\n",
        "        return self.length * self.width\n",
        "\n",
        "# Example usage\n",
        "rect = Rectangle()\n",
        "rect.set_dimensions(5, 3)\n",
        "print(\"Area of rectangle:\", rect.area())  # Output: Area of rectangle: 15"
      ],
      "metadata": {
        "colab": {
          "base_uri": "https://localhost:8080/"
        },
        "id": "L3DEP40P3zjj",
        "outputId": "a54a38da-2f90-46e5-e260-451859fafb73"
      },
      "execution_count": 28,
      "outputs": [
        {
          "output_type": "stream",
          "name": "stdout",
          "text": [
            "Area of rectangle: 15\n"
          ]
        }
      ]
    },
    {
      "cell_type": "code",
      "source": [
        "#14. . Create a class Employee with a method calculate_salary() that computes the salary based on hours worked and hourly rate. Create a derived class Manager that adds a bonus to the salary.\n",
        "#answer.\n",
        "class Employee:\n",
        "    def __init__(self, name, hours_worked, hourly_rate):\n",
        "        self.name = name\n",
        "        self.hours_worked = hours_worked\n",
        "        self.hourly_rate = hourly_rate\n",
        "\n",
        "    def calculate_salary(self):\n",
        "        return self.hours_worked * self.hourly_rate\n",
        "\n",
        "class Manager(Employee):\n",
        "    def __init__(self, name, hours_worked, hourly_rate, bonus):\n",
        "        super().__init__(name, hours_worked, hourly_rate)\n",
        "        self.bonus = bonus\n",
        "\n",
        "    def calculate_salary(self):\n",
        "        base_salary = super().calculate_salary()\n",
        "        return base_salary + self.bonus\n",
        "\n",
        "# Example usage\n",
        "emp = Employee(\"John\", 40, 20)\n",
        "mgr = Manager(\"Alice\", 40, 30, 500)\n",
        "\n",
        "print(f\"{emp.name}'s Salary: ${emp.calculate_salary()}\")  # Output: John's Salary: $800\n",
        "print(f\"{mgr.name}'s Salary: ${mgr.calculate_salary()}\")  # Output: Alice's Salary: $1700"
      ],
      "metadata": {
        "colab": {
          "base_uri": "https://localhost:8080/"
        },
        "id": "uJrseuSo3zge",
        "outputId": "68cef90f-1029-4b8d-ee01-09905ee86f14"
      },
      "execution_count": 30,
      "outputs": [
        {
          "output_type": "stream",
          "name": "stdout",
          "text": [
            "John's Salary: $800\n",
            "Alice's Salary: $1700\n"
          ]
        }
      ]
    },
    {
      "cell_type": "code",
      "source": [
        "#15.  Create a class Product with attributes name, price, and quantity. Implement a method total_price() that calculates the total price of the product.\n",
        "#answer.\n",
        "class Product:\n",
        "    def __init__(self, name, price, quantity):\n",
        "        self.name = name\n",
        "        self.price = price\n",
        "        self.quantity = quantity\n",
        "\n",
        "    def total_price(self):\n",
        "        return self.price * self.quantity\n",
        "\n",
        "# Example usage\n",
        "product = Product(\"Laptop\", 1200, 3)\n",
        "print(f\"Total price for {product.name}: ${product.total_price()}\")"
      ],
      "metadata": {
        "colab": {
          "base_uri": "https://localhost:8080/"
        },
        "id": "pO4u0VJi3zdk",
        "outputId": "00bcb6ef-80f9-493c-dc50-0ea7b69b20b4"
      },
      "execution_count": 32,
      "outputs": [
        {
          "output_type": "stream",
          "name": "stdout",
          "text": [
            "Total price for Laptop: $3600\n"
          ]
        }
      ]
    },
    {
      "cell_type": "code",
      "source": [
        "#16. Create a class Animal with an abstract method sound(). Create two derived classes Cow and Sheep that implement the sound() method.\n",
        "#answer. from abc import ABC, abstractmethod\n",
        "\n",
        "# Abstract base class\n",
        "class Animal(ABC):\n",
        "    @abstractmethod\n",
        "    def sound(self):\n",
        "        pass\n",
        "\n",
        "# Derived class Cow\n",
        "class Cow(Animal):\n",
        "    def sound(self):\n",
        "        return \"Moo\"\n",
        "\n",
        "# Derived class Sheep\n",
        "class Sheep(Animal):\n",
        "    def sound(self):\n",
        "        return \"Baa\"\n",
        "\n",
        "# Example usage\n",
        "cow = Cow()\n",
        "sheep = Sheep()\n",
        "\n",
        "print(\"Cow says:\", cow.sound())      # Output: Cow says: Moo\n",
        "print(\"Sheep says:\", sheep.sound())  # Output: Sheep says: Baa"
      ],
      "metadata": {
        "colab": {
          "base_uri": "https://localhost:8080/"
        },
        "id": "QXmd9gHX3zat",
        "outputId": "29bb15a7-e973-467f-ab7a-b30737b9a5c4"
      },
      "execution_count": 33,
      "outputs": [
        {
          "output_type": "stream",
          "name": "stdout",
          "text": [
            "Cow says: Moo\n",
            "Sheep says: Baa\n"
          ]
        }
      ]
    },
    {
      "cell_type": "code",
      "source": [
        "#17.  Create a class Book with attributes title, author, and year_published. Add a method get_book_info() that returns a formatted string with the book's details.\n",
        "#answer.\n",
        "class Book:\n",
        "    def __init__(self, title, author, year_published):\n",
        "        self.title = title\n",
        "        self.author = author\n",
        "        self.year_published = year_published\n",
        "\n",
        "    def get_book_info(self):\n",
        "        return f\"'{self.title}' by {self.author}, published in {self.year_published}\"\n",
        "\n",
        "# Example usage\n",
        "book = Book(\"1984\", \"George Orwell\", 1949)\n",
        "print(book.get_book_info())\n",
        "# Output: '1984' by George Orwell, published in 1949"
      ],
      "metadata": {
        "colab": {
          "base_uri": "https://localhost:8080/"
        },
        "id": "SmAfPB3x3zXn",
        "outputId": "8e7f7d83-c0ac-4da3-f4f7-7261ee251daa"
      },
      "execution_count": 35,
      "outputs": [
        {
          "output_type": "stream",
          "name": "stdout",
          "text": [
            "'1984' by George Orwell, published in 1949\n"
          ]
        }
      ]
    },
    {
      "cell_type": "code",
      "source": [
        "#18.  Create a class House with attributes address and price. Create a derived class Mansion that adds an attribute number_of_rooms.\n",
        "#answer. # Base class\n",
        "class House:\n",
        "    def __init__(self, address, price):\n",
        "        self.address = address\n",
        "        self.price = price\n",
        "\n",
        "    def display_info(self):\n",
        "        print(f\"Address: {self.address}\")\n",
        "        print(f\"Price: ${self.price}\")\n",
        "\n",
        "# Derived class\n",
        "class Mansion(House):\n",
        "    def __init__(self, address, price, number_of_rooms):\n",
        "        super().__init__(address, price)\n",
        "        self.number_of_rooms = number_of_rooms\n",
        "\n",
        "    def display_info(self):\n",
        "        super().display_info()\n",
        "        print(f\"Number of rooms: {self.number_of_rooms}\")\n",
        "\n",
        "# Example usage\n",
        "house = House(\"123 Maple Street\", 250000)\n",
        "mansion = Mansion(\"456 Oak Avenue\", 1500000, 10)\n",
        "\n",
        "house.display_info()\n",
        "# Output:\n",
        "# Address: 123 Maple Street\n",
        "# Price: $250000\n",
        "\n",
        "print()  # Just to separate outputs\n",
        "\n",
        "mansion.display_info()\n",
        "# Output:\n",
        "# Address: 456 Oak Avenue\n",
        "# Price: $1500000\n",
        "# Number of rooms: 10"
      ],
      "metadata": {
        "colab": {
          "base_uri": "https://localhost:8080/"
        },
        "id": "rYe6bdhN3zVH",
        "outputId": "de966807-5a11-472c-9b46-1e054438191d"
      },
      "execution_count": 36,
      "outputs": [
        {
          "output_type": "stream",
          "name": "stdout",
          "text": [
            "Address: 123 Maple Street\n",
            "Price: $250000\n",
            "\n",
            "Address: 456 Oak Avenue\n",
            "Price: $1500000\n",
            "Number of rooms: 10\n"
          ]
        }
      ]
    }
  ]
}